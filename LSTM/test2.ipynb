{
 "cells": [
  {
   "cell_type": "code",
   "id": "initial_id",
   "metadata": {
    "collapsed": true,
    "ExecuteTime": {
     "end_time": "2025-05-29T13:03:18.625893Z",
     "start_time": "2025-05-29T13:03:18.330874Z"
    }
   },
   "source": "import numpy as np",
   "outputs": [],
   "execution_count": 1
  },
  {
   "metadata": {
    "ExecuteTime": {
     "end_time": "2025-05-29T15:09:14.523021Z",
     "start_time": "2025-05-29T15:09:14.346985Z"
    }
   },
   "cell_type": "code",
   "source": [
    "import numpy as np\n",
    "\n",
    "# Posture Feature: stride length\n",
    "\n",
    "def compute_stride_length(sequence):\n",
    "    \"\"\"\n",
    "    Input: sequence (30, 48) — 30 frames, 16 joints, each joint has 3D coords\n",
    "    Output: stride length (float)\n",
    "    \"\"\"\n",
    "    num_frames = sequence.shape[0]\n",
    "    num_joints = 16\n",
    "    coords = sequence.reshape(num_frames, num_joints, 3)\n",
    "\n",
    "    idx_l_foot = 12  # index of left foot\n",
    "    idx_r_foot = 15  # index of right foot\n",
    "\n",
    "    dists = np.linalg.norm(coords[:, idx_l_foot, :] - coords[:, idx_r_foot, :], axis=1)\n",
    "    stride_length = np.max(dists)\n",
    "    return stride_length\n",
    "\n",
    "\n",
    "# Per-frame features\n",
    "\n",
    "def extract_features_per_frame(sequence):\n",
    "    \"\"\"\n",
    "    sequence: np.ndarray with shape (30, 48)\n",
    "    Each row is a frame, containing 16 joints with 3D coordinates in X,Z,Y order.\n",
    "    Output: np.ndarray with shape (30, 13)\n",
    "    \"\"\"\n",
    "    num_frames = sequence.shape[0]\n",
    "    num_joints = 16\n",
    "    joint_coords = sequence.reshape(num_frames, num_joints, 3)\n",
    "\n",
    "    # Joint indices\n",
    "    idx = {\n",
    "        'root': 0,\n",
    "        'spine': 1,\n",
    "        'neck': 2,\n",
    "        'head': 3,\n",
    "        'l_shoulder': 4,\n",
    "        'l_elbow': 5,\n",
    "        'l_hand': 6,\n",
    "        'r_shoulder': 7,\n",
    "        'r_elbow': 8,\n",
    "        'r_hand': 9,\n",
    "        'l_hip': 10,\n",
    "        'l_knee': 11,\n",
    "        'l_foot': 12,\n",
    "        'r_hip': 13,\n",
    "        'r_knee': 14,\n",
    "        'r_foot': 15\n",
    "    }\n",
    "\n",
    "    def angle_between(a, b, c):\n",
    "        ba = a - b\n",
    "        bc = c - b\n",
    "        cos_angle = np.dot(ba, bc) / (np.linalg.norm(ba) * np.linalg.norm(bc) + 1e-6)\n",
    "        angle = np.arccos(np.clip(cos_angle, -1.0, 1.0))\n",
    "        return np.degrees(angle)\n",
    "\n",
    "    def triangle_area(a, b, c):\n",
    "        ab = b - a\n",
    "        ac = c - a\n",
    "        return 0.5 * np.linalg.norm(np.cross(ab, ac))\n",
    "\n",
    "    features = []\n",
    "\n",
    "    for t in range(num_frames):\n",
    "        joints = joint_coords[t]\n",
    "\n",
    "        min_xyz = joints.min(axis=0)\n",
    "        max_xyz = joints.max(axis=0)\n",
    "        volume = np.prod(max_xyz - min_xyz)\n",
    "\n",
    "        angle_neck_shoulders = angle_between(joints[idx['l_shoulder']], joints[idx['neck']], joints[idx['r_shoulder']])\n",
    "        angle_r_shoulder = angle_between(joints[idx['neck']], joints[idx['r_shoulder']], joints[idx['l_shoulder']])\n",
    "        angle_l_shoulder = angle_between(joints[idx['neck']], joints[idx['l_shoulder']], joints[idx['r_shoulder']])\n",
    "\n",
    "        vertical = np.array([0, 1, 0])\n",
    "        angle_neck_vertical_back = angle_between(joints[idx['neck']] + vertical, joints[idx['neck']], joints[idx['spine']])\n",
    "        angle_neck_head_back = angle_between(joints[idx['head']], joints[idx['neck']], joints[idx['spine']])\n",
    "\n",
    "        dist_r_hand_root = np.linalg.norm(joints[idx['r_hand']] - joints[idx['root']])\n",
    "        dist_l_hand_root = np.linalg.norm(joints[idx['l_hand']] - joints[idx['root']])\n",
    "        dist_r_foot_root = np.linalg.norm(joints[idx['r_foot']] - joints[idx['root']])\n",
    "        dist_l_foot_root = np.linalg.norm(joints[idx['l_foot']] - joints[idx['root']])\n",
    "\n",
    "        area_hands_neck = triangle_area(joints[idx['l_hand']], joints[idx['r_hand']], joints[idx['neck']])\n",
    "        area_feet_root = triangle_area(joints[idx['l_foot']], joints[idx['r_foot']], joints[idx['root']])\n",
    "\n",
    "        stride_length = np.linalg.norm(joints[idx['l_foot']] - joints[idx['r_foot']])\n",
    "\n",
    "        features.append([\n",
    "            volume,\n",
    "            angle_neck_shoulders,\n",
    "            angle_r_shoulder,\n",
    "            angle_l_shoulder,\n",
    "            angle_neck_vertical_back,\n",
    "            angle_neck_head_back,\n",
    "            dist_r_hand_root,\n",
    "            dist_l_hand_root,\n",
    "            dist_r_foot_root,\n",
    "            dist_l_foot_root,\n",
    "            stride_length,\n",
    "            area_hands_neck,\n",
    "            area_feet_root\n",
    "        ])\n",
    "\n",
    "    return np.array(features)  # (30, 13)\n",
    "\n",
    "\n",
    "def extract_final_feature(sequence):\n",
    "    \"\"\"\n",
    "    sequence: (30, 48)\n",
    "    return: vector of length 14\n",
    "    \"\"\"\n",
    "    stride = compute_stride_length(sequence)\n",
    "    per_frame = extract_features_per_frame(sequence)\n",
    "    avg_features = np.mean(per_frame, axis=0)  # shape (13,)\n",
    "    return np.concatenate([avg_features, [stride]])  # shape (14,)\n"
   ],
   "id": "d39a785c8aa89f0",
   "outputs": [],
   "execution_count": 10
  },
  {
   "metadata": {
    "ExecuteTime": {
     "end_time": "2025-05-29T16:44:23.964851Z",
     "start_time": "2025-05-29T16:44:23.619352Z"
    }
   },
   "cell_type": "code",
   "source": [
    "import h5py\n",
    "import numpy as np\n",
    "\n",
    "file_path = \"data/Data.h5\"\n",
    "\n",
    "dataset_arrays = []  # List chứa từng dataset dạng numpy array (30, 48)\n",
    "\n",
    "with h5py.File(file_path, \"r\") as f:\n",
    "    def process_dataset(name, obj):\n",
    "        if isinstance(obj, h5py.Dataset):\n",
    "            data = obj[()]\n",
    "            # Kiểm tra kích thước để đảm bảo (30,48)\n",
    "            if data.shape == (30, 48):\n",
    "                dataset_arrays.append(data)\n",
    "            else:\n",
    "                print(f\"⚠ Dataset '{name}' có kích thước {data.shape}, bỏ qua.\")\n",
    "\n",
    "    f.visititems(process_dataset)\n",
    "\n",
    "# Chuyển list thành numpy array (shape: [số dataset, 30, 48])\n",
    "Gait = np.array(dataset_arrays)\n",
    "\n",
    "print(f\"Số dataset đã lấy: {Gait.shape[0]}\")\n",
    "print(f\"Kích thước mảng cuối cùng: {Gait.shape}\")\n"
   ],
   "id": "c01df827069921eb",
   "outputs": [
    {
     "name": "stdout",
     "output_type": "stream",
     "text": [
      "Số dataset đã lấy: 672\n",
      "Kích thước mảng cuối cùng: (672, 30, 48)\n"
     ]
    }
   ],
   "execution_count": 97
  },
  {
   "metadata": {
    "ExecuteTime": {
     "end_time": "2025-05-29T16:14:32.226599Z",
     "start_time": "2025-05-29T16:14:32.217720Z"
    }
   },
   "cell_type": "code",
   "source": "Gait[0].shape[0]",
   "id": "c54f17cb95354190",
   "outputs": [
    {
     "data": {
      "text/plain": [
       "30"
      ]
     },
     "execution_count": 50,
     "metadata": {},
     "output_type": "execute_result"
    }
   ],
   "execution_count": 50
  },
  {
   "metadata": {
    "ExecuteTime": {
     "end_time": "2025-05-29T16:24:42.079058Z",
     "start_time": "2025-05-29T16:24:37.464602Z"
    }
   },
   "cell_type": "code",
   "source": "",
   "id": "410846b6b88666ea",
   "outputs": [],
   "execution_count": 75
  },
  {
   "metadata": {
    "ExecuteTime": {
     "end_time": "2025-05-29T16:25:08.425878Z",
     "start_time": "2025-05-29T16:25:08.413768Z"
    }
   },
   "cell_type": "code",
   "source": "Fm.shape",
   "id": "8febfde9571e53c5",
   "outputs": [
    {
     "data": {
      "text/plain": [
       "(672, 14)"
      ]
     },
     "execution_count": 76,
     "metadata": {},
     "output_type": "execute_result"
    }
   ],
   "execution_count": 76
  },
  {
   "metadata": {
    "ExecuteTime": {
     "end_time": "2025-05-29T15:39:39.111439Z",
     "start_time": "2025-05-29T15:39:39.068460Z"
    }
   },
   "cell_type": "code",
   "source": [
    "def compute_movement_features(sequence):\n",
    "    \"\"\"\n",
    "    Input:\n",
    "        - sequence: np.ndarray of shape (30, 48) — 30 frames, 16 joints, mỗi joint có (X, Z, Y)\n",
    "    Output:\n",
    "        - movement features: np.ndarray of shape (16,)\n",
    "    \"\"\"\n",
    "\n",
    "    num_frames = sequence.shape[0]\n",
    "    num_joints = 16\n",
    "    coords = sequence.reshape(num_frames, num_joints, 3)\n",
    "\n",
    "    # Các chỉ số khớp\n",
    "    idx_joints = {\n",
    "        'r_hand': 9,\n",
    "        'l_hand': 6,\n",
    "        'head': 3,\n",
    "        'r_foot': 15,\n",
    "        'l_foot': 12\n",
    "    }\n",
    "\n",
    "    # (5, 30, 3)\n",
    "    joint_trajs = np.stack([coords[:, idx, :] for idx in idx_joints.values()])\n",
    "\n",
    "    # --- Tốc độ ---\n",
    "    velocity = np.diff(joint_trajs, axis=1)                   # (5, 29, 3)\n",
    "    speed = np.linalg.norm(velocity, axis=2)                  # (5, 29)\n",
    "    avg_speed = np.mean(speed, axis=1)                        # (5,)\n",
    "\n",
    "    # --- Gia tốc ---\n",
    "    acceleration = np.diff(speed, axis=1)                     # (5, 28)\n",
    "    avg_acceleration = np.mean(np.abs(acceleration), axis=1) # (5,)\n",
    "\n",
    "    # --- Jerk ---\n",
    "    jerk = np.diff(acceleration, axis=1)                      # (5, 27)\n",
    "    avg_jerk = np.mean(np.abs(jerk), axis=1)                 # (5,)\n",
    "\n",
    "    # --- Gait cycle time ---\n",
    "    gait_cycle_time = num_frames / 30.0  # Giả sử 30 FPS\n",
    "\n",
    "    # Gộp đặc trưng\n",
    "    features = np.concatenate([\n",
    "        avg_speed,\n",
    "        avg_acceleration,\n",
    "        avg_jerk,\n",
    "        [gait_cycle_time]\n",
    "    ])  # shape (16,)\n",
    "\n",
    "    return features\n"
   ],
   "id": "7ece8314340af47c",
   "outputs": [],
   "execution_count": 31
  },
  {
   "metadata": {
    "ExecuteTime": {
     "end_time": "2025-05-29T16:26:22.915575Z",
     "start_time": "2025-05-29T16:26:18.491992Z"
    }
   },
   "cell_type": "code",
   "source": [
    "Fm = []\n",
    "Fp = []\n",
    "for gait in Gait:\n",
    "    temp_fm = extract_final_feature(gait)\n",
    "    temp_fp = compute_movement_features(gait)\n",
    "    Fm.append(temp_fm)\n",
    "    Fp.append(temp_fp)\n",
    "Fm = np.array(Fm)\n",
    "Fp = np.array(Fp)\n"
   ],
   "id": "dd4170ff5dbabdae",
   "outputs": [],
   "execution_count": 77
  },
  {
   "metadata": {
    "ExecuteTime": {
     "end_time": "2025-05-29T16:26:35.836030Z",
     "start_time": "2025-05-29T16:26:35.824906Z"
    }
   },
   "cell_type": "code",
   "source": "Fp.shape",
   "id": "83567686e0dd5c3b",
   "outputs": [
    {
     "data": {
      "text/plain": [
       "(672, 16)"
      ]
     },
     "execution_count": 80,
     "metadata": {},
     "output_type": "execute_result"
    }
   ],
   "execution_count": 80
  },
  {
   "metadata": {
    "ExecuteTime": {
     "end_time": "2025-05-29T16:26:46.944006Z",
     "start_time": "2025-05-29T16:26:46.924813Z"
    }
   },
   "cell_type": "code",
   "source": "full_features = np.concatenate([Fm, Fp], axis = 1)",
   "id": "f59cf496aedda2b1",
   "outputs": [],
   "execution_count": 81
  },
  {
   "metadata": {
    "ExecuteTime": {
     "end_time": "2025-05-29T16:26:58.417162Z",
     "start_time": "2025-05-29T16:26:58.403902Z"
    }
   },
   "cell_type": "code",
   "source": "full_features.shape",
   "id": "e12ec93ea96c7742",
   "outputs": [
    {
     "data": {
      "text/plain": [
       "(672, 30)"
      ]
     },
     "execution_count": 82,
     "metadata": {},
     "output_type": "execute_result"
    }
   ],
   "execution_count": 82
  },
  {
   "metadata": {
    "ExecuteTime": {
     "end_time": "2025-05-29T15:56:51.954232Z",
     "start_time": "2025-05-29T15:56:51.867579Z"
    }
   },
   "cell_type": "code",
   "source": [
    "import torch\n",
    "from lstm_model import VanillaLSTM\n",
    "model = torch.load(\"lstm_model_full.pth\", weights_only=False)\n",
    "model = model.to(\"cpu\")\n",
    "lstm_layer = model.lstm\n",
    "sequence = torch.tensor(Gait[0], dtype=torch.float32)  # sequence_np là (30, 48)\n",
    "sequence = sequence.unsqueeze(1)  # Thêm batch dimension: (30, 1, 48)\n",
    "output, (h_n, c_n) = lstm_layer(sequence)\n",
    "final_hidden_state = h_n[-1]  # shape: (batch, hidden_size)\n",
    "num_frames = Gait.shape[1]  # nếu Gait shape là (seq_len, features)\n",
    "final_hidden = h_n.squeeze(0).squeeze(0)  # (hidden_size,) tensor có grad\n",
    "lstm_out = final_hidden[num_frames-1].detach().cpu().numpy()  # convert sang numpy\n"
   ],
   "id": "95317b87de5d47bf",
   "outputs": [],
   "execution_count": 40
  },
  {
   "metadata": {
    "ExecuteTime": {
     "end_time": "2025-05-29T16:32:04.200436Z",
     "start_time": "2025-05-29T16:32:04.096828Z"
    }
   },
   "cell_type": "code",
   "source": [
    "model = torch.load(\"lstm_model_full.pth\", weights_only=False)\n",
    "model = model.to(\"cpu\")\n",
    "def deepfeatures(model, gait):\n",
    "    lstm_layer = model.lstm\n",
    "    sequence = torch.tensor(gait, dtype=torch.float32)  # sequence_np là (30, 48)\n",
    "    sequence = sequence.unsqueeze(1)  # Thêm batch dimension: (30, 1, 48)\n",
    "    output, (h_n, c_n) = lstm_layer(sequence)\n",
    "    num_frames = gait.shape[0]  # nếu Gait shape là (seq_len, features)\n",
    "    final_hidden = h_n.squeeze(0).squeeze(0)  # (hidden_size,) tensor có grad\n",
    "    lstm_out = final_hidden[num_frames-1].detach().cpu().numpy()  # convert sang numpy\n",
    "    return lstm_out"
   ],
   "id": "8d52c30ceb6b9239",
   "outputs": [],
   "execution_count": 89
  },
  {
   "metadata": {
    "ExecuteTime": {
     "end_time": "2025-05-29T16:32:47.028430Z",
     "start_time": "2025-05-29T16:32:41.410886Z"
    }
   },
   "cell_type": "code",
   "source": [
    "Fm = []\n",
    "Fp = []\n",
    "DeepFeatures = []\n",
    "for gait in Gait:\n",
    "    temp_fm = extract_final_feature(gait)\n",
    "    temp_fp = compute_movement_features(gait)\n",
    "    temp_deep = deepfeatures(model, gait)\n",
    "    Fm.append(temp_fm)\n",
    "    Fp.append(temp_fp)\n",
    "    DeepFeatures.append(temp_deep)\n",
    "Fm = np.array(Fm)\n",
    "Fp = np.array(Fp)\n",
    "DeepFeatures = np.array(DeepFeatures)\n"
   ],
   "id": "ef2f287ab11f7d37",
   "outputs": [],
   "execution_count": 91
  },
  {
   "metadata": {
    "ExecuteTime": {
     "end_time": "2025-05-29T16:32:48.648766Z",
     "start_time": "2025-05-29T16:32:48.636967Z"
    }
   },
   "cell_type": "code",
   "source": "full_features = np.concatenate([Fm, Fp, DeepFeatures], axis = 1)\n",
   "id": "4f58a1576b4ba3e1",
   "outputs": [],
   "execution_count": 92
  },
  {
   "metadata": {
    "ExecuteTime": {
     "end_time": "2025-05-29T16:34:17.203922Z",
     "start_time": "2025-05-29T16:34:16.712196Z"
    }
   },
   "cell_type": "code",
   "source": [
    "import h5py\n",
    "import pandas as pd\n",
    "import numpy as np\n",
    "\n",
    "file_path = \"data/Labels_My.h5\"  # chỉnh đúng đường dẫn\n",
    "\n",
    "row_1_values_all = []  # mảng chứa tất cả giá trị hàng 1 các dataset\n",
    "\n",
    "with h5py.File(file_path, \"r\") as f:\n",
    "    def process_dataset(name, obj):\n",
    "        if isinstance(obj, h5py.Dataset):\n",
    "            # Đọc toàn bộ dữ liệu dataset\n",
    "            data = obj[()]\n",
    "            df = pd.DataFrame(data)\n",
    "\n",
    "            # Kiểm tra dataset có ít nhất 2 hàng không để lấy hàng 1\n",
    "            if df.shape[0] > 1:\n",
    "                # Lấy giá trị hàng 1 (index=1) dạng numpy array\n",
    "                row_1 = df.iloc[1].values\n",
    "\n",
    "                # Thêm từng phần tử trong hàng 1 vào mảng chung\n",
    "                row_1_values_all.extend(row_1.tolist())\n",
    "            else:\n",
    "                print(f\"⚠ Dataset {name} không có đủ 2 hàng để lấy hàng 1.\")\n",
    "\n",
    "    f.visititems(process_dataset)\n",
    "\n",
    "# Chuyển list thành numpy array (tùy chọn)\n",
    "labels = np.array(row_1_values_all)\n",
    "\n",
    "print(\"Tổng giá trị hàng 1 của tất cả dataset gộp lại:\")\n",
    "print(labels.shape)"
   ],
   "id": "96cbaa58f51a8ba8",
   "outputs": [
    {
     "name": "stdout",
     "output_type": "stream",
     "text": [
      "Tổng giá trị hàng 1 của tất cả dataset gộp lại:\n",
      "(672,)\n"
     ]
    }
   ],
   "execution_count": 94
  },
  {
   "metadata": {
    "ExecuteTime": {
     "end_time": "2025-05-29T16:34:44.055068Z",
     "start_time": "2025-05-29T16:34:41.768612Z"
    }
   },
   "cell_type": "code",
   "source": [
    "from sklearn.model_selection import train_test_split\n",
    "\n",
    "X = full_features\n",
    "\n",
    "# Ví dụ tạo label giả, vì bạn chưa cung cấp label (thường cần cho supervised learning)\n",
    "# Đây chỉ là ví dụ: giả sử tất cả label là 0\n",
    "y = labels\n",
    "\n",
    "# Chia train-test (80-20)\n",
    "X_train, X_test, y_train, y_test = train_test_split(\n",
    "    X, y, test_size=0.2, random_state=42, shuffle=True)\n"
   ],
   "id": "e9ee8ca26ff7c9a5",
   "outputs": [],
   "execution_count": 95
  },
  {
   "metadata": {
    "ExecuteTime": {
     "end_time": "2025-05-29T16:35:36.723078Z",
     "start_time": "2025-05-29T16:35:34.164523Z"
    }
   },
   "cell_type": "code",
   "source": [
    "from sklearn.ensemble import RandomForestClassifier\n",
    "from sklearn.metrics import accuracy_score, classification_report\n",
    "rf = RandomForestClassifier(n_estimators=100, random_state=42)\n",
    "\n",
    "# Huấn luyện\n",
    "rf.fit(X_train, y_train)\n",
    "\n",
    "# Dự đoán\n",
    "y_pred = rf.predict(X_test)\n",
    "\n",
    "# Đánh giá\n",
    "print(\"🎯 Accuracy:\", accuracy_score(y_test, y_pred))\n",
    "print(\"\\n📊 Classification Report:\\n\", classification_report(y_test, y_pred))\n"
   ],
   "id": "7aba544bade05490",
   "outputs": [
    {
     "name": "stdout",
     "output_type": "stream",
     "text": [
      "🎯 Accuracy: 0.9259259259259259\n",
      "\n",
      "📊 Classification Report:\n",
      "               precision    recall  f1-score   support\n",
      "\n",
      "           0       0.90      0.95      0.92        19\n",
      "           1       0.94      0.96      0.95        71\n",
      "           2       0.85      0.81      0.83        27\n",
      "           3       1.00      0.94      0.97        18\n",
      "\n",
      "    accuracy                           0.93       135\n",
      "   macro avg       0.92      0.92      0.92       135\n",
      "weighted avg       0.93      0.93      0.93       135\n",
      "\n"
     ]
    }
   ],
   "execution_count": 96
  },
  {
   "metadata": {},
   "cell_type": "code",
   "outputs": [],
   "execution_count": null,
   "source": "",
   "id": "b45d4a385df95e20"
  }
 ],
 "metadata": {
  "kernelspec": {
   "display_name": "Python 3",
   "language": "python",
   "name": "python3"
  },
  "language_info": {
   "codemirror_mode": {
    "name": "ipython",
    "version": 2
   },
   "file_extension": ".py",
   "mimetype": "text/x-python",
   "name": "python",
   "nbconvert_exporter": "python",
   "pygments_lexer": "ipython2",
   "version": "2.7.6"
  }
 },
 "nbformat": 4,
 "nbformat_minor": 5
}
